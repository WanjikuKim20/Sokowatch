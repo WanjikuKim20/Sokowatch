{
 "cells": [
  {
   "cell_type": "code",
   "execution_count": 6,
   "metadata": {},
   "outputs": [
    {
     "name": "stderr",
     "output_type": "stream",
     "text": [
      "Warning message:\n",
      "\"package 'purrr' was built under R version 3.6.3\"\n",
      "Attaching package: 'magrittr'\n",
      "\n",
      "The following object is masked from 'package:purrr':\n",
      "\n",
      "    set_names\n",
      "\n"
     ]
    },
    {
     "name": "stdout",
     "output_type": "stream",
     "text": [
      "package 'tidyverse' successfully unpacked and MD5 sums checked\n",
      "\n",
      "The downloaded binary packages are in\n",
      "\tC:\\Users\\Wanjiku Kimani\\AppData\\Local\\Temp\\RtmpUPpPu0\\downloaded_packages\n"
     ]
    },
    {
     "name": "stderr",
     "output_type": "stream",
     "text": [
      "Warning message:\n",
      "\"package 'tidyverse' was built under R version 3.6.3\"-- Attaching packages --------------------------------------- tidyverse 1.3.0 --\n",
      "v ggplot2 3.3.2     v dplyr   1.0.2\n",
      "v tibble  3.0.3     v stringr 1.4.0\n",
      "v tidyr   1.1.2     v forcats 0.4.0\n",
      "v readr   1.3.1     \n",
      "Warning message:\n",
      "\"package 'ggplot2' was built under R version 3.6.3\"Warning message:\n",
      "\"package 'tibble' was built under R version 3.6.3\"Warning message:\n",
      "\"package 'tidyr' was built under R version 3.6.3\"Warning message:\n",
      "\"package 'dplyr' was built under R version 3.6.3\"-- Conflicts ------------------------------------------ tidyverse_conflicts() --\n",
      "x tidyr::extract()      masks magrittr::extract()\n",
      "x dplyr::filter()       masks stats::filter()\n",
      "x dplyr::lag()          masks stats::lag()\n",
      "x magrittr::set_names() masks purrr::set_names()\n",
      "also installing the dependencies 'zip', 'gridExtra', 'doParallel', 'openxlsx'\n",
      "\n"
     ]
    },
    {
     "name": "stdout",
     "output_type": "stream",
     "text": [
      "package 'zip' successfully unpacked and MD5 sums checked\n",
      "package 'gridExtra' successfully unpacked and MD5 sums checked\n",
      "package 'doParallel' successfully unpacked and MD5 sums checked\n",
      "package 'openxlsx' successfully unpacked and MD5 sums checked\n",
      "package 'scorecard' successfully unpacked and MD5 sums checked\n",
      "\n",
      "The downloaded binary packages are in\n",
      "\tC:\\Users\\Wanjiku Kimani\\AppData\\Local\\Temp\\RtmpUPpPu0\\downloaded_packages\n"
     ]
    },
    {
     "name": "stderr",
     "output_type": "stream",
     "text": [
      "Warning message:\n",
      "\"package 'scorecard' was built under R version 3.6.3\"\n",
      "Attaching package: 'scorecard'\n",
      "\n",
      "The following object is masked from 'package:tidyr':\n",
      "\n",
      "    replace_na\n",
      "\n"
     ]
    }
   ],
   "source": [
    "#load some packages for data manipulation\n",
    "library(purrr)\n",
    "library(magrittr)\n",
    "install.packages(\"tidyverse\")\n",
    "library(tidyverse)\n",
    "install.packages(\"scorecard\")\n",
    "library(scorecard)"
   ]
  },
  {
   "cell_type": "code",
   "execution_count": 7,
   "metadata": {},
   "outputs": [],
   "source": [
    "#clear space\n",
    "rm(list = ls())"
   ]
  },
  {
   "cell_type": "code",
   "execution_count": 8,
   "metadata": {},
   "outputs": [],
   "source": [
    "#import data- entries with missing observations have been excluded \n",
    "data<-read.csv(\"Updated_credit_data.csv\")"
   ]
  },
  {
   "cell_type": "code",
   "execution_count": 9,
   "metadata": {},
   "outputs": [],
   "source": [
    "# Split the data into may-june orders and july orders\n",
    "d<-split(data,data$delivery_month)\n",
    "\n",
    "#select training sample (may and june) \n",
    "select_train<-d[1:2]\n",
    "train<- do.call(rbind.data.frame,select_train)\n",
    "\n",
    "#select testing sample (July)\n",
    "select_test<-d[3]\n",
    "test<- do.call(rbind.data.frame,select_test)\n"
   ]
  },
  {
   "cell_type": "code",
   "execution_count": 10,
   "metadata": {},
   "outputs": [
    {
     "data": {
      "image/png": "[encoded data removed]",
      "text/plain": [
       "plot without title"
      ]
     },
     "metadata": {},
     "output_type": "display_data"
    }
   ],
   "source": [
    "# Show Informational values for all variables by graph: \n",
    "info_values <- iv(train, y = \"good_outcome_indicator\", positive = \"good_outcome_indicator|1\")\n",
    "\n",
    "info_values %>% \n",
    "  arrange(info_value) %>% \n",
    "  mutate(info_value = round(info_value, 3), variable = factor(variable, levels = variable)) %>% \n",
    "  ggplot(aes(variable, info_value)) + \n",
    "  geom_col(fill = \"#377eb8\") + \n",
    "  coord_flip() + \n",
    "  geom_text(aes(label = info_value), hjust = -.1, size = 5, color = \"#377eb8\") + \n",
    "  labs(title = \"Figure 7: Information Value (IV) for All Variables\", \n",
    "       x = NULL, y = \"Information Value (IV)\") + \n",
    "  scale_y_continuous(expand = c(0, 0), limits = c(0, 0.9)) + \n",
    "  theme(panel.grid.major.y = element_blank()) + \n",
    "  theme(plot.margin = unit(c(1, 1, 1, 1), \"cm\")) "
   ]
  },
  {
   "cell_type": "code",
   "execution_count": 54,
   "metadata": {},
   "outputs": [
    {
     "name": "stdout",
     "output_type": "stream",
     "text": [
      "[INFO] creating woe binning ... \n",
      "[INFO] converting into woe values ... \n"
     ]
    },
    {
     "data": {
      "text/plain": [
       "\n",
       "Call:\n",
       "glm(formula = good_outcome_indicator ~ ., family = binomial, \n",
       "    data = train_woe2)\n",
       "\n",
       "Deviance Residuals: \n",
       "    Min       1Q   Median       3Q      Max  \n",
       "-1.8042  -0.9417  -0.4291   1.0127   2.4308  \n",
       "\n",
       "Coefficients:\n",
       "                         Estimate Std. Error z value Pr(>|z|)    \n",
       "(Intercept)              -0.57759    0.07579  -7.621 2.52e-14 ***\n",
       "pct_delinquent_loans_woe  0.97216    0.08558  11.360  < 2e-16 ***\n",
       "commodity_share_woe       0.84084    0.32527   2.585  0.00974 ** \n",
       "days_active_woe           0.91675    0.28924   3.170  0.00153 ** \n",
       "pct_credit_woe            0.75554    0.26885   2.810  0.00495 ** \n",
       "past_loans_woe            0.07082    0.40662   0.174  0.86172    \n",
       "past_loan_amount_woe      0.59655    0.31312   1.905  0.05676 .  \n",
       "efe_participation_woe     0.44195    0.50769   0.871  0.38402    \n",
       "branch_woe                0.28249    0.55339   0.510  0.60972    \n",
       "monthly_revenue_woe       0.86054    0.26060   3.302  0.00096 ***\n",
       "---\n",
       "Signif. codes:  0 '***' 0.001 '**' 0.01 '*' 0.05 '.' 0.1 ' ' 1\n",
       "\n",
       "(Dispersion parameter for binomial family taken to be 1)\n",
       "\n",
       "    Null deviance: 1326.9  on 1015  degrees of freedom\n",
       "Residual deviance: 1087.4  on 1006  degrees of freedom\n",
       "AIC: 1107.4\n",
       "\n",
       "Number of Fisher Scoring iterations: 4\n"
      ]
     },
     "metadata": {},
     "output_type": "display_data"
    }
   ],
   "source": [
    "#Logistic regression with all variables (excluding customer_id and delivery_month)\n",
    "\n",
    "# Only use variables with IV >= 0.01 for training Logistic Regression: \n",
    "variables_selected <- info_values %>% \n",
    "  filter(info_value >= 0.01) %>% \n",
    "  pull(1)\n",
    "\n",
    "#Exclude customer_id in the list\n",
    "variables_trunc_iv <- variables_selected[c(-4)]\n",
    "\n",
    "# Data frame for training Logistic Regression: \n",
    "train_iv <- train %>% select(variables_trunc_iv, \"good_outcome_indicator\")\n",
    "\n",
    "# Bin data set that will be used later for Logistic Regression: \n",
    "bins_var <- woebin(train_iv, y = \"good_outcome_indicator\", no_cores = 4, positive = \"good_outcome_indicator|1\")\n",
    "\n",
    "# Creates a data frame of binned variables for Logistic Regression: \n",
    "train_woe2 <- woebin_ply(train_iv, bins_var)\n",
    "\n",
    "# Logistic Regression:\n",
    "my_logistic2 <- glm(good_outcome_indicator ~ ., family = binomial, data = train_woe2)\n",
    "\n",
    "# Show results: \n",
    "my_logistic2 %>% summary()\n",
    "  "
   ]
  },
  {
   "cell_type": "code",
   "execution_count": 47,
   "metadata": {},
   "outputs": [
    {
     "name": "stdout",
     "output_type": "stream",
     "text": [
      "[INFO] creating woe binning ... \n",
      "[INFO] converting into woe values ... \n"
     ]
    },
    {
     "data": {
      "text/plain": [
       "\n",
       "Call:\n",
       "glm(formula = good_outcome_indicator ~ ., family = binomial, \n",
       "    data = train_woe)\n",
       "\n",
       "Deviance Residuals: \n",
       "    Min       1Q   Median       3Q      Max  \n",
       "-1.5975  -0.9681  -0.4442   1.0288   2.3863  \n",
       "\n",
       "Coefficients:\n",
       "                         Estimate Std. Error z value Pr(>|z|)    \n",
       "(Intercept)              -0.57756    0.07507  -7.693 1.43e-14 ***\n",
       "pct_delinquent_loans_woe  0.98432    0.08452  11.646  < 2e-16 ***\n",
       "commodity_share_woe       0.93108    0.31886   2.920 0.003501 ** \n",
       "days_active_woe           0.99385    0.28600   3.475 0.000511 ***\n",
       "pct_credit_woe            0.83915    0.26342   3.186 0.001444 ** \n",
       "---\n",
       "Signif. codes:  0 '***' 0.001 '**' 0.01 '*' 0.05 '.' 0.1 ' ' 1\n",
       "\n",
       "(Dispersion parameter for binomial family taken to be 1)\n",
       "\n",
       "    Null deviance: 1326.9  on 1015  degrees of freedom\n",
       "Residual deviance: 1105.3  on 1011  degrees of freedom\n",
       "AIC: 1115.3\n",
       "\n",
       "Number of Fisher Scoring iterations: 4\n"
      ]
     },
     "metadata": {},
     "output_type": "display_data"
    }
   ],
   "source": [
    "#Logistic regression with select variables that have informational value and statistical significance \n",
    "\n",
    "# Only use variables with IV >= 0.1 for training Logistic Regression: \n",
    "variables_selected_iv <- info_values %>% \n",
    "  filter(info_value >= 0.1) %>% \n",
    "  pull(1)\n",
    "\n",
    "#Exclude customer_id in the list\n",
    "variables_trunc <- variables_selected_iv[c(-4)]\n",
    "\n",
    "# Data frame for training Logistic Regression: \n",
    "train_aic <- train %>% select(variables_trunc, \"good_outcome_indicator\")\n",
    "  \n",
    "# Generates optimal binning   for numerical, factor and categorical variables: \n",
    "bins_var <- woebin(train_aic, y = \"good_outcome_indicator\", no_cores = 20, positive = \"good_outcome_indicator|1\")\n",
    "\n",
    "# Create a data frame of binned variables for Logistic Regression: \n",
    "train_woe <- woebin_ply(train_aic, bins_var)\n",
    "\n",
    "# Logistic Regression:\n",
    "my_logistic <- glm(good_outcome_indicator ~ ., family = binomial, data = train_woe)\n",
    "\n",
    "# Show results: \n",
    "my_logistic %>% summary()\n"
   ]
  },
  {
   "cell_type": "code",
   "execution_count": 48,
   "metadata": {},
   "outputs": [
    {
     "data": {
      "text/plain": [
       "\n",
       "\n",
       "|Predictor            |Group             |    WOE| Scorecard| Bin IV| Total IV|\n",
       "|:--------------------|:-----------------|------:|---------:|------:|--------:|\n",
       "|pct_delinquent_loans |From -Inf to 0.25 |  0.657|       -47|  0.275|    0.893|\n",
       "|pct_delinquent_loans |From 0.25 to 0.55 | -1.172|        83|  0.179|    0.893|\n",
       "|pct_delinquent_loans |From 0.55 to  Inf | -1.652|       117|  0.439|    0.893|\n",
       "|commodity_share      |From -Inf to 0.4  |  0.189|       -13|  0.002|    0.053|\n",
       "|commodity_share      |From 0.4 to 0.6   | -0.429|        29|  0.014|    0.053|\n",
       "|commodity_share      |From 0.6 to 0.84  | -0.190|        13|  0.015|    0.053|\n",
       "|commodity_share      |From 0.84 to  Inf |  0.219|       -15|  0.022|    0.053|\n",
       "|days_active          |From -Inf to 45   | -0.446|        32|  0.010|    0.066|\n",
       "|days_active          |From 45 to 110    |  0.219|       -16|  0.013|    0.066|\n",
       "|days_active          |From 110 to 120   |  0.428|       -31|  0.015|    0.066|\n",
       "|days_active          |From 120 to 135   | -0.533|        38|  0.027|    0.066|\n",
       "|days_active          |From 135 to  Inf  | -0.047|         3|  0.001|    0.066|\n",
       "|pct_credit           |From -Inf to 0.22 |  0.298|       -18|  0.016|    0.077|\n",
       "|pct_credit           |From 0.22 to 0.38 | -0.402|        24|  0.023|    0.077|\n",
       "|pct_credit           |From 0.38 to 0.52 | -0.079|         5|  0.001|    0.077|\n",
       "|pct_credit           |From 0.52 to 0.68 |  0.192|       -12|  0.005|    0.077|\n",
       "|pct_credit           |From 0.68 to 0.84 | -0.479|        29|  0.027|    0.077|\n",
       "|pct_credit           |From 0.84 to  Inf |  0.146|        -9|  0.006|    0.077|"
      ]
     },
     "metadata": {},
     "output_type": "display_data"
    }
   ],
   "source": [
    "# Calculate scorecard scores for variables based on the results from woebin and glm: \n",
    "my_card <- scorecard(bins_var, my_logistic, points0 = 600, odds0 = 1/19, pdo = 50)\n",
    "\n",
    "# Show Results: \n",
    "\n",
    "library(stringr)\n",
    "do.call(\"bind_rows\", my_card) %>% \n",
    "  slice(-1) %>% \n",
    "  select(-breaks, -is_special_values, -count, -count_distr, -good, -bad, -badprob) %>% \n",
    "  mutate_if(is.numeric, function(x) {round(x, 3)}) %>% \n",
    "  mutate(bin = bin %>% \n",
    "           str_replace_all(\"\\\\[\", \"From \") %>% \n",
    "           str_replace_all(\"\\\\,\", \" to \") %>% \n",
    "           str_replace_all(\"\\\\)\", \"\")) -> iv_for_predictors_point\n",
    "\n",
    "iv_for_predictors_point %>% \n",
    "  knitr::kable(col.names = c(\"Predictor\", \"Group\", \"WOE\", \"Scorecard\", \"Bin IV\", \"Total IV\"))\n",
    "\n"
   ]
  },
  {
   "cell_type": "code",
   "execution_count": 50,
   "metadata": {},
   "outputs": [
    {
     "data": {
      "text/plain": [
       "\n",
       "\n",
       "|good_outcome_indicator | min| max| median| mean|   n|\n",
       "|:----------------------|---:|---:|------:|----:|---:|\n",
       "|Default                | 324| 588|    380|  394| 365|\n",
       "|NonDefault             | 318| 626|    491|  471| 651|"
      ]
     },
     "metadata": {},
     "output_type": "display_data"
    }
   ],
   "source": [
    "# Scorecard point for all observations from train data set: \n",
    "my_points_train <- scorecard_ply(train_aic, my_card, only_total_score = FALSE, print_step = 0) %>% as.data.frame()\n",
    "\n",
    "# Some statistics scorecard by group: \n",
    "scored_train <- train_aic %>% \n",
    "  mutate(SCORE = my_points_train$score) %>% \n",
    "  mutate(good_outcome_indicator = case_when(good_outcome_indicator == 1 ~ \"Default\", TRUE ~ \"NonDefault\")) \n",
    "\n",
    "scored_train %>% \n",
    "  group_by(good_outcome_indicator) %>% \n",
    "  summarise_each(funs(min, max, median, mean, n()), SCORE) %>% \n",
    "  mutate_if(is.numeric, function(x) {round(x, 0)}) %>% \n",
    "  knitr::kable(caption = \"Table 1: Scorecad Points by Group for Train Data\")\n"
   ]
  },
  {
   "cell_type": "code",
   "execution_count": 51,
   "metadata": {},
   "outputs": [
    {
     "name": "stderr",
     "output_type": "stream",
     "text": [
      "`summarise()` ungrouping output (override with `.groups` argument)\n"
     ]
    },
    {
     "data": {
      "image/png": "[encoded data removed]",
      "text/plain": [
       "plot without title"
      ]
     },
     "metadata": {},
     "output_type": "display_data"
    }
   ],
   "source": [
    "# Scorecard Points for train data set: \n",
    "scored_train %>% \n",
    "  group_by(good_outcome_indicator) %>% \n",
    "  summarise(tb = mean(SCORE)) %>% \n",
    "  ungroup() -> mean_score_train\n",
    "\n",
    "scored_train %>% \n",
    "  ggplot(aes(SCORE, color = good_outcome_indicator, fill = good_outcome_indicator)) + \n",
    "  geom_density(alpha = 0.3) + \n",
    "  geom_vline(aes(xintercept = mean_score_train$tb[1]), linetype = \"dashed\", color = \"red\") + \n",
    "  geom_vline(aes(xintercept = mean_score_train$tb[2]), linetype = \"dashed\", color = \"blue\") + \n",
    "  geom_text(aes(x = 400 - 15, y = 0.0042, label = mean_score_train$tb[1] %>% round(0)), color = \"red\", size = 4) + \n",
    "  geom_text(aes(x = 565, y = 0.0042, label = mean_score_train$tb[2] %>% round(0)), color = \"blue\", size = 4) + \n",
    "  theme(legend.title = element_blank()) + \n",
    "  theme(legend.position = c(0.2, 0.8)) + \n",
    "  labs(x = NULL, y = NULL, title = \"Figure 2: Scorecard Distribution by two Credit Groups for Train Data\", \n",
    "       subtitle = \"The scorecard point is a numeric expression measuring creditworthiness. Commercial Banks\\nusually utilize it as a method to support the decision-making about credit applications.\")\n"
   ]
  },
  {
   "cell_type": "code",
   "execution_count": 55,
   "metadata": {},
   "outputs": [
    {
     "data": {
      "text/plain": [
       "\n",
       "\n",
       "|good_outcome_indicator | min| max| median| mean|   n|\n",
       "|:----------------------|---:|---:|------:|----:|---:|\n",
       "|Default                | 318| 591|    389|  402| 151|\n",
       "|NonDefault             | 327| 607|    502|  474| 564|"
      ]
     },
     "metadata": {},
     "output_type": "display_data"
    },
    {
     "name": "stderr",
     "output_type": "stream",
     "text": [
      "`summarise()` ungrouping output (override with `.groups` argument)\n"
     ]
    },
    {
     "data": {
      "image/png": "[encoded data removed]",
      "text/plain": [
       "plot without title"
      ]
     },
     "metadata": {},
     "output_type": "display_data"
    }
   ],
   "source": [
    "# Scorecard Points for test data set: \n",
    "\n",
    "test_aic <- test %>% select(variables_trunc, \"good_outcome_indicator\")\n",
    "\n",
    "my_points_test <- scorecard_ply(test_aic, my_card, print_step = 0, \n",
    "                                only_total_score = FALSE) %>% as.data.frame()\n",
    "\n",
    "scored_test <- test_aic %>% \n",
    "  mutate(SCORE = my_points_test$score) %>% \n",
    "  mutate(good_outcome_indicator = case_when(good_outcome_indicator == 1 ~ \"Default\", TRUE ~ \"NonDefault\")) \n",
    "\n",
    "scored_test %>% \n",
    "  group_by(good_outcome_indicator) %>% \n",
    "  summarise_each(funs(min, max, median, mean, n()), SCORE) %>% \n",
    "  mutate_if(is.numeric, function(x) {round(x, 0)}) %>% \n",
    "  knitr::kable(caption = \"Table 2: Scorecad Points by Group for Test Data\")\n",
    "\n",
    "scored_test %>% \n",
    "  group_by(good_outcome_indicator) %>% \n",
    "  summarise(tb = mean(SCORE)) %>% \n",
    "  ungroup() -> mean_score_test\n",
    "\n",
    "scored_test %>% \n",
    "  ggplot(aes(SCORE, color = good_outcome_indicator, fill = good_outcome_indicator)) + \n",
    "  geom_density(alpha = 0.3) + \n",
    "  geom_vline(aes(xintercept = mean_score_test$tb[1]), linetype = \"dashed\", color = \"red\") + \n",
    "  geom_vline(aes(xintercept = mean_score_test$tb[2]), linetype = \"dashed\", color = \"blue\") + \n",
    "  geom_text(aes(x = 412, y = 0.0042, label = mean_score_test$tb[1] %>% round(0)), color = \"red\", size = 4) + \n",
    "  geom_text(aes(x = 570, y = 0.0042, label = mean_score_test$tb[2] %>% round(0)), color = \"blue\", size = 4) + \n",
    "  theme(legend.title = element_blank()) + \n",
    "  theme(legend.position = c(0.2, 0.8)) + \n",
    "  labs(x = NULL, y = NULL, title = \"Figure 3: Scorecard Distribution by two Credit Groups for Test Data\", \n",
    "       subtitle = \"The scorecard point is a numeric expression measuring creditworthiness. Commercial Banks\\nusually utilize it as a method to support the decision-making about credit applications.\")\n"
   ]
  },
  {
   "cell_type": "code",
   "execution_count": 58,
   "metadata": {},
   "outputs": [
    {
     "name": "stdout",
     "output_type": "stream",
     "text": [
      "[INFO] converting into woe values ... \n"
     ]
    },
    {
     "data": {
      "text/plain": [
       "$binomial_metric\n",
       "$binomial_metric$`Test Data`\n",
       "         MSE      RMSE   LogLoss         R2        KS       AUC      Gini\n",
       "1: 0.1599846 0.3999807 0.4778526 0.03963974 0.4673101 0.7374654 0.4749307\n",
       "\n",
       "\n",
       "$pic\n",
       "TableGrob (1 x 2) \"arrange\": 2 grobs\n",
       "  z     cells    name           grob\n",
       "1 1 (1-1,1-1) arrange gtable[layout]\n",
       "2 2 (1-1,2-2) arrange gtable[layout]\n"
      ]
     },
     "metadata": {},
     "output_type": "display_data"
    },
    {
     "data": {
      "image/png": "[encoded data removed]",
      "text/plain": [
       "plot without title"
      ]
     },
     "metadata": {},
     "output_type": "display_data"
    }
   ],
   "source": [
    "#Model performance \n",
    "\n",
    "# Convert to binned data frame for test data: \n",
    "test_woe <- woebin_ply(test_aic, bins_var)\n",
    "\n",
    "# Caculate probabiliy of default (PD) for observations belonging test data: \n",
    "test_pred <- predict(my_logistic, test_woe, type = \"response\")\n",
    "\n",
    "# Model Performance for test data: \n",
    "perf_eva(test_pred,test_aic$good_outcome_indicator, \n",
    "         type = c(\"ks\", \"roc\", \"lift\", \"pr\"), \n",
    "         title = \"Test Data\")"
   ]
  }
 ],
 "metadata": {
  "kernelspec": {
   "display_name": "R",
   "language": "R",
   "name": "ir"
  },
  "language_info": {
   "codemirror_mode": "r",
   "file_extension": ".r",
   "mimetype": "text/x-r-source",
   "name": "R",
   "pygments_lexer": "r",
   "version": "3.6.1"
  }
 },
 "nbformat": 4,
 "nbformat_minor": 4
}
